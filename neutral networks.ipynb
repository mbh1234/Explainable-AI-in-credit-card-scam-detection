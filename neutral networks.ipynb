{
 "cells": [
  {
   "cell_type": "code",
   "execution_count": 1,
   "id": "c9f14c4c-b5a4-40d1-b45b-478fa8bd50bf",
   "metadata": {},
   "outputs": [],
   "source": [
    "import pandas as pd\n",
    "import numpy as np\n",
    "import seaborn as sns\n",
    "from sklearn.metrics import classification_report\n",
    "from sklearn.metrics import roc_auc_score as roc\n",
    "from sklearn.model_selection import train_test_split as tts\n",
    "from sklearn.preprocessing import StandardScaler\n",
    "import tensorflow as tf\n",
    "from tensorflow import keras"
   ]
  },
  {
   "cell_type": "code",
   "execution_count": 2,
   "id": "fa505682-c852-4111-bfad-adb8fa21e94b",
   "metadata": {},
   "outputs": [],
   "source": [
    "dataset = pd.read_csv('C:/Users/siric/OneDrive/Desktop/creditcard.csv')"
   ]
  },
  {
   "cell_type": "code",
   "execution_count": 3,
   "id": "d594a7af-6cb8-4e8f-9350-9832f43d312a",
   "metadata": {},
   "outputs": [
    {
     "data": {
      "text/plain": [
       "<Axes: xlabel='Class', ylabel='count'>"
      ]
     },
     "execution_count": 3,
     "metadata": {},
     "output_type": "execute_result"
    },
    {
     "data": {
      "image/png": "[encoded data removed]",
      "text/plain": [
       "<Figure size 640x480 with 1 Axes>"
      ]
     },
     "metadata": {},
     "output_type": "display_data"
    }
   ],
   "source": [
    "sns.countplot(x='Class', data=dataset)"
   ]
  },
  {
   "cell_type": "code",
   "execution_count": 4,
   "id": "1758de66-8301-4b37-ab32-f01a8bc51638",
   "metadata": {},
   "outputs": [],
   "source": [
    "positiveDataset = dataset.loc[dataset['Class'] == 1]\n",
    "negativeDataset = dataset.loc[dataset['Class'] == 0]"
   ]
  },
  {
   "cell_type": "code",
   "execution_count": 6,
   "id": "04bbcd1d-05e2-475e-94be-7576670381b9",
   "metadata": {},
   "outputs": [],
   "source": [
    "positiveTrain, positiveTest = tts(positiveDataset, test_size=0.2, random_state=21)\n",
    "negativeTrain, negativeTest = tts(negativeDataset, test_size=0.5)\n",
    "\n",
    "# Concatenate DataFrames instead of using append\n",
    "trainDataset = pd.concat([positiveTrain, negativeTrain], ignore_index=True)\n",
    "testDataset = pd.concat([positiveTest, negativeTest], ignore_index=True)\n"
   ]
  },
  {
   "cell_type": "code",
   "execution_count": 7,
   "id": "b4e6f883-ae10-4388-bbd5-4175177ef6e8",
   "metadata": {},
   "outputs": [],
   "source": [
    "def classifierCreator():\n",
    "    clf = keras.models.Sequential()\n",
    "    clf.add(keras.layers.Dense(10, activation='relu'))\n",
    "    clf.add(keras.layers.Dense(5, activation='relu'))\n",
    "    clf.add(keras.layers.Dense(1, activation='sigmoid'))\n",
    "    return clf"
   ]
  },
  {
   "cell_type": "code",
   "execution_count": 8,
   "id": "6c23e309-05f5-4170-9cef-28a8ac04eb69",
   "metadata": {},
   "outputs": [],
   "source": [
    "classifier = classifierCreator()\n",
    "classifier.compile(loss='binary_crossentropy', optimizer='sgd')\n",
    "yTrain = trainDataset['Class']\n",
    "yTest = testDataset['Class']\n",
    "xTrain = trainDataset.drop(columns=['Class'])\n",
    "xTest = testDataset.drop(columns=['Class'])\n",
    "scaler = StandardScaler()\n",
    "xTrain = scaler.fit_transform(xTrain)\n",
    "xTest = scaler.fit_transform(xTest)"
   ]
  },
  {
   "cell_type": "code",
   "execution_count": 14,
   "id": "093ec18b-de44-43c7-8edc-655e1affe516",
   "metadata": {},
   "outputs": [],
   "source": [
    "weights = {0:1, 1:1.5}\n",
    "history = classifier.fit(xTrain, yTrain, class_weight=weights, epochs=15, verbose=0)"
   ]
  },
  {
   "cell_type": "code",
   "execution_count": 16,
   "id": "81cd0932-227b-43fa-922a-94e206c6d6ef",
   "metadata": {},
   "outputs": [
    {
     "name": "stdout",
     "output_type": "stream",
     "text": [
      "\u001b[1m4455/4455\u001b[0m \u001b[32m━━━━━━━━━━━━━━━━━━━━\u001b[0m\u001b[37m\u001b[0m \u001b[1m7s\u001b[0m 1ms/step\n",
      "              precision    recall  f1-score   support\n",
      "\n",
      "           0       1.00      1.00      1.00    142157\n",
      "           1       0.93      0.80      0.86       393\n",
      "\n",
      "    accuracy                           1.00    142550\n",
      "   macro avg       0.96      0.90      0.93    142550\n",
      "weighted avg       1.00      1.00      1.00    142550\n",
      "\n",
      "ROC AUC Score:  0.988491830011047\n"
     ]
    }
   ],
   "source": [
    "# Get predicted probabilities\n",
    "predProbTrain = classifier.predict(xTrain)\n",
    "\n",
    "# Convert probabilities to class labels\n",
    "# For binary classification, use a threshold (e.g., 0.5)\n",
    "predTrain = (predProbTrain > 0.5).astype(int)\n",
    "\n",
    "# Print classification report\n",
    "from sklearn.metrics import classification_report, roc_auc_score\n",
    "\n",
    "print(classification_report(yTrain, predTrain))\n",
    "print('ROC AUC Score: ', roc_auc_score(yTrain, predProbTrain))\n"
   ]
  },
  {
   "cell_type": "code",
   "execution_count": 18,
   "id": "7d092a9d-75b9-4ea8-a986-bd1dd65127d1",
   "metadata": {},
   "outputs": [
    {
     "name": "stdout",
     "output_type": "stream",
     "text": [
      "\u001b[1m4446/4446\u001b[0m \u001b[32m━━━━━━━━━━━━━━━━━━━━\u001b[0m\u001b[37m\u001b[0m \u001b[1m7s\u001b[0m 2ms/step\n",
      "              precision    recall  f1-score   support\n",
      "\n",
      "           0       1.00      1.00      1.00    142158\n",
      "           1       0.71      0.78      0.74        99\n",
      "\n",
      "    accuracy                           1.00    142257\n",
      "   macro avg       0.85      0.89      0.87    142257\n",
      "weighted avg       1.00      1.00      1.00    142257\n",
      "\n",
      "ROC AUC Score:  0.9678330598433582\n"
     ]
    }
   ],
   "source": [
    "# Get predicted probabilities for the test set\n",
    "predProbTest = classifier.predict(xTest)\n",
    "\n",
    "# Convert probabilities to class labels\n",
    "# For binary classification, use a threshold (e.g., 0.5)\n",
    "predTest = (predProbTest > 0.5).astype(int)\n",
    "\n",
    "# Print classification report\n",
    "from sklearn.metrics import classification_report, roc_auc_score\n",
    "\n",
    "print(classification_report(yTest, predTest))\n",
    "print('ROC AUC Score: ', roc_auc_score(yTest, predProbTest))\n"
   ]
  },
  {
   "cell_type": "code",
   "execution_count": null,
   "id": "eab9f132-d5bf-4f64-a04f-965a567aa5c6",
   "metadata": {},
   "outputs": [
    {
     "name": "stdout",
     "output_type": "stream",
     "text": [
      "Ratio of weights: 1: 1.01\n"
     ]
    }
   ],
   "source": [
    "from sklearn.metrics import classification_report, roc_auc_score\n",
    "\n",
    "for i in range(1, 10, 1):\n",
    "    print('Ratio of weights: 1:', 1 + (i * 0.01))\n",
    "    classifier = classifierCreator()\n",
    "    classifier.compile(loss='binary_crossentropy', optimizer='sgd')\n",
    "\n",
    "    # Update weights for class imbalance\n",
    "    weights = {0: 1, 1: 1 + (i * 0.01)}\n",
    "\n",
    "    # Train the model\n",
    "    history = classifier.fit(xTrain, yTrain, class_weight=weights, epochs=15, verbose=0)\n",
    "\n",
    "    # Predict on training data\n",
    "    predProbTrain = classifier.predict(xTrain)  # Get predicted probabilities\n",
    "    predTrain = (predProbTrain > 0.5).astype(int)  # Convert probabilities to class labels\n",
    "\n",
    "    # Print classification report and ROC AUC score for training data\n",
    "    print(classification_report(yTrain, predTrain))\n",
    "    print('ROC AUC Score (Train): ', roc_auc_score(yTrain, predProbTrain))\n",
    "\n",
    "    # Predict on test data\n",
    "    predProbTest = classifier.predict(xTest)  # Get predicted probabilities\n",
    "    predTest = (predProbTest > 0.5).astype(int)  # Convert probabilities to class labels\n",
    "\n",
    "    # Print classification report and ROC AUC score for test data\n",
    "    print(classification_report(yTest, predTest))\n",
    "    print('ROC AUC Score (Test): ', roc_auc_score(yTest, predProbTest))\n",
    "\n"
   ]
  },
  {
   "cell_type": "code",
   "execution_count": null,
   "id": "07a46639-6384-4170-8ba8-1d4b1108c434",
   "metadata": {},
   "outputs": [],
   "source": []
  }
 ],
 "metadata": {
  "kernelspec": {
   "display_name": "Python 3 (ipykernel)",
   "language": "python",
   "name": "python3"
  },
  "language_info": {
   "codemirror_mode": {
    "name": "ipython",
    "version": 3
   },
   "file_extension": ".py",
   "mimetype": "text/x-python",
   "name": "python",
   "nbconvert_exporter": "python",
   "pygments_lexer": "ipython3",
   "version": "3.12.4"
  }
 },
 "nbformat": 4,
 "nbformat_minor": 5
}
